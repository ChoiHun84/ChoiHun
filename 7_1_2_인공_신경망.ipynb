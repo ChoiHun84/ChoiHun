{
  "nbformat": 4,
  "nbformat_minor": 0,
  "metadata": {
    "colab": {
      "name": "7-1-2 인공 신경망.ipynb",
      "provenance": [],
      "authorship_tag": "ABX9TyOy023tD5vLmFQDO5Jk/jvp",
      "include_colab_link": true
    },
    "kernelspec": {
      "name": "python3",
      "display_name": "Python 3"
    },
    "language_info": {
      "name": "python"
    },
    "accelerator": "GPU"
  },
  "cells": [
    {
      "cell_type": "markdown",
      "metadata": {
        "id": "view-in-github",
        "colab_type": "text"
      },
      "source": [
        "<a href=\"https://colab.research.google.com/github/ChoiHun84/Data-Science-Study/blob/main/7_1_2_%EC%9D%B8%EA%B3%B5_%EC%8B%A0%EA%B2%BD%EB%A7%9D.ipynb\" target=\"_parent\"><img src=\"https://colab.research.google.com/assets/colab-badge.svg\" alt=\"Open In Colab\"/></a>"
      ]
    },
    {
      "cell_type": "code",
      "metadata": {
        "colab": {
          "base_uri": "https://localhost:8080/"
        },
        "id": "Ilf8B32mOfGK",
        "outputId": "51f24d65-343e-465f-8090-72aa91e0464d"
      },
      "source": [
        "from tensorflow import keras\n",
        "(train_input,train_target), (test_input, test_target)=\\\n",
        "    keras.datasets.fashion_mnist.load_data()"
      ],
      "execution_count": 2,
      "outputs": [
        {
          "output_type": "stream",
          "text": [
            "Downloading data from https://storage.googleapis.com/tensorflow/tf-keras-datasets/train-labels-idx1-ubyte.gz\n",
            "32768/29515 [=================================] - 0s 0us/step\n",
            "Downloading data from https://storage.googleapis.com/tensorflow/tf-keras-datasets/train-images-idx3-ubyte.gz\n",
            "26427392/26421880 [==============================] - 0s 0us/step\n",
            "Downloading data from https://storage.googleapis.com/tensorflow/tf-keras-datasets/t10k-labels-idx1-ubyte.gz\n",
            "8192/5148 [===============================================] - 0s 0us/step\n",
            "Downloading data from https://storage.googleapis.com/tensorflow/tf-keras-datasets/t10k-images-idx3-ubyte.gz\n",
            "4423680/4422102 [==============================] - 0s 0us/step\n"
          ],
          "name": "stdout"
        }
      ]
    },
    {
      "cell_type": "code",
      "metadata": {
        "id": "I_amtJlMOyIv"
      },
      "source": [
        "train_scaled = train_input / 255.0\n",
        "train_scaled = train_scaled.reshape(-1, 28*28)"
      ],
      "execution_count": 4,
      "outputs": []
    },
    {
      "cell_type": "code",
      "metadata": {
        "id": "vGXs9WDLPDiZ"
      },
      "source": [
        "import tensorflow as tf"
      ],
      "execution_count": 5,
      "outputs": []
    },
    {
      "cell_type": "code",
      "metadata": {
        "id": "VTQ6dEsjPLCe"
      },
      "source": [
        "from tensorflow import keras"
      ],
      "execution_count": 6,
      "outputs": []
    },
    {
      "cell_type": "code",
      "metadata": {
        "id": "wLObNmDyPOkp"
      },
      "source": [
        "from sklearn.model_selection import train_test_split\n",
        "train_scaled, val_scaled, train_target, val_target = train_test_split(\n",
        "    train_scaled, train_target, test_size=0.2, random_state=42)"
      ],
      "execution_count": 8,
      "outputs": []
    },
    {
      "cell_type": "code",
      "metadata": {
        "colab": {
          "base_uri": "https://localhost:8080/"
        },
        "id": "SSV1Uy1pP5Pj",
        "outputId": "539659a2-fd3e-42d2-81ed-c2cd92252e9e"
      },
      "source": [
        "print(train_scaled.shape, train_target.shape)"
      ],
      "execution_count": 9,
      "outputs": [
        {
          "output_type": "stream",
          "text": [
            "(38400, 784) (38400,)\n"
          ],
          "name": "stdout"
        }
      ]
    },
    {
      "cell_type": "code",
      "metadata": {
        "colab": {
          "base_uri": "https://localhost:8080/"
        },
        "id": "T4MmVbn1QJih",
        "outputId": "38ad5c51-011d-498a-ce46-0d8fd9ed0b87"
      },
      "source": [
        "print(val_scaled.shape, val_target.shape)"
      ],
      "execution_count": 10,
      "outputs": [
        {
          "output_type": "stream",
          "text": [
            "(9600, 784) (9600,)\n"
          ],
          "name": "stdout"
        }
      ]
    },
    {
      "cell_type": "code",
      "metadata": {
        "id": "6L-h5TPhQSsr"
      },
      "source": [
        "dense = keras.layers.Dense(10, activation='softmax', input_shape=(784,))"
      ],
      "execution_count": 11,
      "outputs": []
    },
    {
      "cell_type": "code",
      "metadata": {
        "id": "IdnNXiEFQlTT"
      },
      "source": [
        "model = keras.Sequential(dense)"
      ],
      "execution_count": 12,
      "outputs": []
    },
    {
      "cell_type": "code",
      "metadata": {
        "id": "2wmDv4ZBQ0J6"
      },
      "source": [
        "model.compile(loss='sparse_categorical_crossentropy', metrics='accuracy')"
      ],
      "execution_count": 13,
      "outputs": []
    },
    {
      "cell_type": "code",
      "metadata": {
        "colab": {
          "base_uri": "https://localhost:8080/"
        },
        "id": "J-kjlNQzRQ1s",
        "outputId": "7348e448-1169-4a52-f993-a01afaa79226"
      },
      "source": [
        "print(train_target[:10])"
      ],
      "execution_count": 14,
      "outputs": [
        {
          "output_type": "stream",
          "text": [
            "[9 4 9 0 4 9 3 6 4 7]\n"
          ],
          "name": "stdout"
        }
      ]
    },
    {
      "cell_type": "code",
      "metadata": {
        "colab": {
          "base_uri": "https://localhost:8080/"
        },
        "id": "e9kuK9J7R7n2",
        "outputId": "f7318c14-9741-4ca0-e08e-ac4ddad315d6"
      },
      "source": [
        "model.fit(train_scaled, train_target, epochs=5)"
      ],
      "execution_count": 15,
      "outputs": [
        {
          "output_type": "stream",
          "text": [
            "Epoch 1/5\n",
            "1200/1200 [==============================] - 5s 2ms/step - loss: 0.8147 - accuracy: 0.7276\n",
            "Epoch 2/5\n",
            "1200/1200 [==============================] - 2s 2ms/step - loss: 0.4966 - accuracy: 0.8306\n",
            "Epoch 3/5\n",
            "1200/1200 [==============================] - 2s 2ms/step - loss: 0.4716 - accuracy: 0.8436\n",
            "Epoch 4/5\n",
            "1200/1200 [==============================] - 2s 2ms/step - loss: 0.4583 - accuracy: 0.8473\n",
            "Epoch 5/5\n",
            "1200/1200 [==============================] - 2s 2ms/step - loss: 0.4480 - accuracy: 0.8515\n"
          ],
          "name": "stdout"
        },
        {
          "output_type": "execute_result",
          "data": {
            "text/plain": [
              "<tensorflow.python.keras.callbacks.History at 0x7f4068fada50>"
            ]
          },
          "metadata": {
            "tags": []
          },
          "execution_count": 15
        }
      ]
    },
    {
      "cell_type": "code",
      "metadata": {
        "colab": {
          "base_uri": "https://localhost:8080/"
        },
        "id": "dBeuHTfxSAwJ",
        "outputId": "345cfd29-cb4c-4d75-d2e8-8c780a777b25"
      },
      "source": [
        "model.evaluate(val_scaled, val_target)"
      ],
      "execution_count": 16,
      "outputs": [
        {
          "output_type": "stream",
          "text": [
            "300/300 [==============================] - 1s 1ms/step - loss: 0.4491 - accuracy: 0.8458\n"
          ],
          "name": "stdout"
        },
        {
          "output_type": "execute_result",
          "data": {
            "text/plain": [
              "[0.449135959148407, 0.8458333611488342]"
            ]
          },
          "metadata": {
            "tags": []
          },
          "execution_count": 16
        }
      ]
    },
    {
      "cell_type": "code",
      "metadata": {
        "id": "BfArKLz2SQJV"
      },
      "source": [
        ""
      ],
      "execution_count": null,
      "outputs": []
    }
  ]
}